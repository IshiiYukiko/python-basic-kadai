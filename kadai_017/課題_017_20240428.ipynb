{
  "nbformat": 4,
  "nbformat_minor": 0,
  "metadata": {
    "colab": {
      "provenance": []
    },
    "kernelspec": {
      "name": "python3",
      "display_name": "Python 3"
    },
    "language_info": {
      "name": "python"
    }
  },
  "cells": [
    {
      "cell_type": "markdown",
      "source": [
        "kadai_017　組み合わせてコードを書こう"
      ],
      "metadata": {
        "id": "us5TWT2gKtGf"
      }
    },
    {
      "cell_type": "code",
      "execution_count": 8,
      "metadata": {
        "colab": {
          "base_uri": "https://localhost:8080/"
        },
        "id": "h6qjXbM8Kn13",
        "outputId": "22b10765-00bd-48da-af3a-be8feb9d80e1"
      },
      "outputs": [
        {
          "output_type": "stream",
          "name": "stdout",
          "text": [
            "侍太郎は62歳なので、大人です。\n",
            "侍花子は58歳なので、大人です。\n",
            "侍一郎は28歳なので、大人です。\n",
            "侍二郎は23歳なので、大人です。\n",
            "侍桜子は18歳なので、大人ではありません。\n"
          ]
        }
      ],
      "source": [
        "class Human:\n",
        "  def __init__(self, name, age):\n",
        "    self.name = name\n",
        "    self.age = age\n",
        "\n",
        "  def check_adult(self):\n",
        "    if self.age >= 20:\n",
        "      print(f\"{self.name}は{self.age}歳なので、大人です。\")\n",
        "    else:\n",
        "      print(f\"{self.name}は{self.age}歳なので、大人ではありません。\")\n",
        "\n",
        "humans = [\n",
        "    Human(\"侍太郎\", 62),\n",
        "    Human(\"侍花子\", 58),\n",
        "    Human(\"侍一郎\", 28),\n",
        "    Human(\"侍二郎\", 23),\n",
        "    Human(\"侍桜子\", 18)\n",
        "     ]\n",
        "\n",
        "for human in humans:\n",
        "  human.check_adult()\n"
      ]
    }
  ]
}