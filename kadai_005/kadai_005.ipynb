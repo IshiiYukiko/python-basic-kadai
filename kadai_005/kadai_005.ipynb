{
  "nbformat": 4,
  "nbformat_minor": 0,
  "metadata": {
    "colab": {
      "provenance": []
    },
    "kernelspec": {
      "name": "python3",
      "display_name": "Python 3"
    },
    "language_info": {
      "name": "python"
    }
  },
  "cells": [
    {
      "cell_type": "markdown",
      "source": [
        "kadai_005"
      ],
      "metadata": {
        "id": "UhaX2TIq2zo6"
      }
    },
    {
      "cell_type": "code",
      "execution_count": 1,
      "metadata": {
        "colab": {
          "base_uri": "https://localhost:8080/"
        },
        "id": "6CqmRduN2uGu",
        "outputId": "e6ac13cb-517a-4554-8366-11af2bde9a95"
      },
      "outputs": [
        {
          "output_type": "stream",
          "name": "stdout",
          "text": [
            "75.0cm²\n"
          ]
        }
      ],
      "source": [
        "# 課題：台形の面積\n",
        "daikei_menseki = (10 + 20) * 5 / 2\n",
        "\n",
        "print(f\"{daikei_menseki}cm²\")\n"
      ]
    }
  ]
}