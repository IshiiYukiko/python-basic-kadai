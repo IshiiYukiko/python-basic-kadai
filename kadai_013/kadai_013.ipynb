{
  "nbformat": 4,
  "nbformat_minor": 0,
  "metadata": {
    "colab": {
      "provenance": []
    },
    "kernelspec": {
      "name": "python3",
      "display_name": "Python 3"
    },
    "language_info": {
      "name": "python"
    }
  },
  "cells": [
    {
      "cell_type": "markdown",
      "source": [
        "課題：013"
      ],
      "metadata": {
        "id": "tlF8pZopoubH"
      }
    },
    {
      "cell_type": "code",
      "execution_count": 4,
      "metadata": {
        "colab": {
          "base_uri": "https://localhost:8080/"
        },
        "id": "AvlvcIIZomqM",
        "outputId": "abd41cb1-e646-4de1-d5db-570d410f0e8e"
      },
      "outputs": [
        {
          "output_type": "stream",
          "name": "stdout",
          "text": [
            "2530.0円\n"
          ]
        }
      ],
      "source": [
        "def add_two_arguments(price, tax):\n",
        "  total = price * (1 + tax/100)\n",
        "  print(f\"{total}円\")\n",
        "\n",
        "add_two_arguments(2300,10)\n"
      ]
    }
  ]
}